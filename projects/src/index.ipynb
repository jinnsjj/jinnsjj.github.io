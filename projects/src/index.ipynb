{
 "cells": [
  {
   "cell_type": "markdown",
   "metadata": {},
   "source": [
    "[← Back to Homepage](http://jinnsjj.github.io)\n",
    "\n",
    "# Projects\n",
    "\n",
    "## Learn\n",
    "\n",
    "1. Urban Sound Classification\n",
    "    - [Urban Sound Classifier using CNN v2](http://jinnsjj.github.io/projects/USC_CNN_v2.html)\n",
    "    - [Urban Sound Classifier using CNN v3](http://jinnsjj.github.io/projects/USC_CNN_v3.html)\n",
    "    - [Urban Sound Classifier using LSTM v1](http://jinnsjj.github.io/projects/USC_LSTM_v1.html)\n",
    "\n",
    "[← Back to Homepage](http://jinnsjj.github.io)"
   ]
  },
  {
   "cell_type": "code",
   "execution_count": null,
   "metadata": {},
   "outputs": [],
   "source": []
  }
 ],
 "metadata": {
  "kernelspec": {
   "display_name": "",
   "name": ""
  },
  "language_info": {
   "name": ""
  }
 },
 "nbformat": 4,
 "nbformat_minor": 2
}
