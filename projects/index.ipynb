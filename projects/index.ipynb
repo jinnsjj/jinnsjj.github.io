{
 "cells": [
  {
   "cell_type": "markdown",
   "metadata": {},
   "source": [
    "[← Back to Homepage](jinnsjj.github.io)"
   ]
  },
  {
   "cell_type": "markdown",
   "metadata": {},
   "source": [
    "# Projects"
   ]
  },
  {
   "cell_type": "markdown",
   "metadata": {},
   "source": [
    "## Learn"
   ]
  },
  {
   "cell_type": "markdown",
   "metadata": {},
   "source": [
    "1. Urban Sound Classification\n",
    "    - [Urban Sound Classifier using CNN v2](http://jinnsjj.github.io/projects/USC_CNN_v2.html)\n",
    "    - [Urban Sound Classifier using CNN v3](http://jinnsjj.github.io/projects/USC_CNN_v3.html)\n",
    "    - [Urban Sound Classifier using LSTM v1](http://jinnsjj.github.io/projects/USC_LSTM_v1.html)"
   ]
  },
  {
   "cell_type": "markdown",
   "metadata": {},
   "source": [
    "[← Back to Homepage](jinnsjj.github.io)"
   ]
  }
 ],
 "metadata": {
  "kernelspec": {
   "display_name": "",
   "name": ""
  },
  "language_info": {
   "name": ""
  }
 },
 "nbformat": 4,
 "nbformat_minor": 2
}
